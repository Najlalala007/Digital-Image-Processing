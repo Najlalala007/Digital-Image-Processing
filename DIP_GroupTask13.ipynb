{
  "nbformat": 4,
  "nbformat_minor": 0,
  "metadata": {
    "colab": {
      "provenance": [],
      "include_colab_link": true
    },
    "kernelspec": {
      "name": "python3",
      "display_name": "Python 3"
    },
    "language_info": {
      "name": "python"
    }
  },
  "cells": [
    {
      "cell_type": "markdown",
      "metadata": {
        "id": "view-in-github",
        "colab_type": "text"
      },
      "source": [
        "<a href=\"https://colab.research.google.com/github/Najlalala007/Digital-Image-Processing/blob/main/DIP_GroupTask13.ipynb\" target=\"_parent\"><img src=\"https://colab.research.google.com/assets/colab-badge.svg\" alt=\"Open In Colab\"/></a>"
      ]
    },
    {
      "cell_type": "code",
      "source": [
        "import cv2\n",
        "import numpy as np\n",
        "from cryptography.fernet import Fernet"
      ],
      "metadata": {
        "id": "z61_KY0USInR"
      },
      "execution_count": 3,
      "outputs": []
    },
    {
      "cell_type": "code",
      "source": [
        "# Generate a key for encryption/decryption\n",
        "def generate_key():\n",
        "    key = Fernet.generate_key()\n",
        "    with open(\"key.key\", \"wb\") as key_file:\n",
        "        key_file.write(key)\n",
        "    print(\"Key generated and saved as key.key\")\n",
        "\n",
        "# Load the encryption key\n",
        "def load_key():\n",
        "    with open(\"key.key\", \"rb\") as key_file:\n",
        "        key = key_file.read()\n",
        "    return key"
      ],
      "metadata": {
        "id": "voPSBUguSIW0"
      },
      "execution_count": 4,
      "outputs": []
    },
    {
      "cell_type": "code",
      "source": [
        "# Encrypt an image\n",
        "def encrypt_image(image_path=\"tori.jpg\", output_path=\"encrypted_image.enc\"):\n",
        "    key = load_key()\n",
        "    cipher = Fernet(key)\n",
        "\n",
        "    # Read the image as binary data\n",
        "    with open(image_path, \"rb\") as image_file:\n",
        "        image_data = image_file.read()\n",
        "\n",
        "    # Encrypt the image data\n",
        "    encrypted_data = cipher.encrypt(image_data)\n",
        "\n",
        "    # Save the encrypted data to a file\n",
        "    with open(output_path, \"wb\") as encrypted_file:\n",
        "        encrypted_file.write(encrypted_data)\n",
        "    print(f\"Image encrypted and saved as {output_path}\")"
      ],
      "metadata": {
        "id": "06OSXQvLSP4B"
      },
      "execution_count": 5,
      "outputs": []
    },
    {
      "cell_type": "code",
      "execution_count": 6,
      "metadata": {
        "id": "cAButiCJ2fG9"
      },
      "outputs": [],
      "source": [
        "# Decrypt an image\n",
        "def decrypt_image(encrypted_path=\"encrypted_image.enc\", output_path=\"decrypted_tori.jpg\"):\n",
        "    key = load_key()\n",
        "    cipher = Fernet(key)\n",
        "\n",
        "    # Read the encrypted data\n",
        "    with open(encrypted_path, \"rb\") as encrypted_file:\n",
        "        encrypted_data = encrypted_file.read()\n",
        "\n",
        "    # Decrypt the data\n",
        "    decrypted_data = cipher.decrypt(encrypted_data)\n",
        "\n",
        "    # Save the decrypted data as an image\n",
        "    with open(output_path, \"wb\") as image_file:\n",
        "        image_file.write(decrypted_data)\n",
        "    print(f\"Image decrypted and saved as {output_path}\")"
      ]
    },
    {
      "cell_type": "code",
      "source": [
        "# Main application menu\n",
        "def main():\n",
        "    print(\"Image Security Application\")\n",
        "    print(\"1. Generate Key\")\n",
        "    print(\"2. Encrypt Default Image (tori.jpg)\")\n",
        "    print(\"3. Decrypt Default Image (encrypted_image.enc)\")\n",
        "    print(\"4. Exit\")\n",
        "\n",
        "    while True:\n",
        "        choice = input(\"Choose an option (1-4): \")\n",
        "        if choice == \"1\":\n",
        "            generate_key()\n",
        "        elif choice == \"2\":\n",
        "            encrypt_image()\n",
        "        elif choice == \"3\":\n",
        "            decrypt_image()\n",
        "        elif choice == \"4\":\n",
        "            print(\"Exiting application.\")\n",
        "            break\n",
        "        else:\n",
        "            print(\"Invalid choice. Please choose a valid option.\")\n",
        "\n",
        "if __name__ == \"__main__\":\n",
        "    main()"
      ],
      "metadata": {
        "id": "2Sy9xRek1AuC",
        "colab": {
          "base_uri": "https://localhost:8080/"
        },
        "outputId": "9382a594-0979-4fce-a7bb-2ed67c13a0f3"
      },
      "execution_count": 7,
      "outputs": [
        {
          "output_type": "stream",
          "name": "stdout",
          "text": [
            "Image Security Application\n",
            "1. Generate Key\n",
            "2. Encrypt Default Image (tori.jpg)\n",
            "3. Decrypt Default Image (encrypted_image.enc)\n",
            "4. Exit\n",
            "Choose an option (1-4): 1.\n",
            "Invalid choice. Please choose a valid option.\n",
            "Choose an option (1-4): 1\n",
            "Choose an option (1-4): 2\n",
            "Key generated and saved as key.key\n",
            "Image encrypted and saved as encrypted_image.enc\n",
            "Choose an option (1-4): 3\n",
            "Image decrypted and saved as decrypted_tori.jpg\n",
            "Choose an option (1-4): 4\n",
            "Exiting application.\n"
          ]
        }
      ]
    }
  ]
}